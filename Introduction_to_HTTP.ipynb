{
 "cells": [
  {
   "cell_type": "markdown",
   "metadata": {},
   "source": [
    "# Using Telnet on a Mac OSx\n",
    "\n",
    "* Here we are making a `GET` request for the root \"/\"\n",
    "\n",
    "$ telnet [`hostname`] [`port number`]\n",
    "\n",
    "```terminal\n",
    "$ telnet httpbin.org 80\n",
    "Trying 50.19.219.240...\n",
    "Connected to httpbin.org.\n",
    "Escape character is '^]'.\n",
    "GET / HTTP/1.1\n",
    "Host: httpbin.org\n",
    "```\n",
    "* `GET / HTTP/1.1` - known as the request line\n",
    "* `Host: hostname`\n",
    "* Hit Enter Twice\n",
    "* Telnet responds by sending a page's raw html."
   ]
  },
  {
   "cell_type": "markdown",
   "metadata": {},
   "source": [
    "## Requesting a different resource:\n",
    "```\n",
    "$ telnet httpbin.org 80\n",
    "Trying 50.19.219.240...\n",
    "Connected to httpbin.org.\n",
    "Escape character is '^]'.\n",
    "GET /xml HTTP/1.1\n",
    "Host: httpbin.org\n",
    "```\n",
    "* Telnet responds by sending you the page's xml\n",
    "* XML - eXtensible markup language"
   ]
  },
  {
   "cell_type": "markdown",
   "metadata": {},
   "source": [
    "## HTTP Request Format\n",
    "\n",
    "HTTP 1.1 Specifications\n",
    "* [In HTML format](https://tools.ietf.org/html/rfc7231)\n",
    "* [In plain text format](https://tools.ietf.org/rfc/rfc7231.txt)\n",
    "\n",
    "HTTP/2\n",
    "* [FAQ](https://http2.github.io/faq/)\n",
    "* [Specifications](http://httpwg.org/specs/rfc7540.html)\n",
    "* [Article on new features and how to prepare for HTTP/2](https://www.smashingmagazine.com/2016/02/getting-ready-for-http2)"
   ]
  },
  {
   "cell_type": "markdown",
   "metadata": {},
   "source": [
    "### Requeset Line\n",
    "* `GET|POST [uri] HTTP/[version]`\n",
    "* URI stands for Uniform Resource Identifier\n",
    "* `GET` asks for a resource without making changes\n",
    "* `POSTS` asks for a resource while making changes\n",
    "\n",
    "### Headers\n",
    "* `[Header Name]: [Header Value]`\n",
    "* examples:\n",
    "```\n",
    "Host: httpbin.org\n",
    "User-Agent: telnet\n",
    "Accept-Language: en-US\n",
    "```\n",
    "\n",
    "### Request Body (Payload is what follows the status line and headers)\n",
    "* Optional for POST requests, but not for GET requests.\n",
    "* examples:\n",
    "\n",
    "```Terminal\n",
    "HTTP/1.1 200 OK\n",
    "Connection: keep-alive\n",
    "Server: meinheld/0.6.1\n",
    "Date: Tue, 19 Sep 2017 06:13:20 GMT\n",
    "Content-Type: text/html; charset=utf-8\n",
    "Content-Length: 13011\n",
    "Access-Control-Allow-Origin: *\n",
    "Access-Control-Allow-Credentials: true\n",
    "X-Powered-By: Flask\n",
    "X-Processed-Time: 0.00666999816895\n",
    "Via: 1.1 vegur\n",
    "\n",
    "<!DOCTYPE html>\n",
    "......... etc etc etc\n",
    "```\n",
    "More specifically\n",
    "* __Status line :__ `HTTP/1.1 200 OK`\n",
    "* `HTTP/[version] [status code] [status message]`\n",
    "\n",
    "    Response Codes\n",
    "    * 500 codes refer to server errors\n",
    "    * 400 codes typically signify something went wrong regarding the client's request.\n",
    "    * 300 codes refer to pages that may have been moved, but still contain instructions of where to go next (i.e. redirecting)\n",
    "\n",
    "\n",
    "* __Headers :__\n",
    "* `[Header Name]: [Header Value]`\n",
    "* examples:\n",
    "```\n",
    "Server: meinheld/0.6.1\n",
    "Date: Tue, 19 Sep 2017 06:13:20 GMT\n",
    "Content-Type: text/html; charset=utf-8\n",
    "```"
   ]
  },
  {
   "cell_type": "markdown",
   "metadata": {},
   "source": [
    "### NOTES:\n",
    "HTTP is a stateless protocol, that is, it has no memory of any previous interactions."
   ]
  },
  {
   "cell_type": "markdown",
   "metadata": {},
   "source": [
    "## Using Query Strings with a GET request\n",
    "* Queries start with a '?', and then have a resource followed by value. \n",
    "* Multiple queries are seperated by '&'.\n",
    "* example:\n",
    "\n",
    "```\n",
    "GET /get?firstname=Chris&language=English HTTP/1.1\n",
    "Host: httpbin.org\n",
    "```\n",
    "\n",
    "Note:\n",
    "* You can do this in the browser too:\n",
    "\n",
    "```\n",
    "http://www.stackoverflow.com/search?q=http\n",
    "http://www.google.com/maps?q=chicago\n",
    "```"
   ]
  },
  {
   "cell_type": "markdown",
   "metadata": {},
   "source": [
    "## Sending data with a POST request\n",
    "\n",
    "__UTF-8 Encoding__\n",
    "\n",
    "The UTF-8 character encoding is one in which every character in the Unicode Character Set can be represented with anywhere from 1 to 4 bytes.\n",
    "\n",
    "In general, the character encoding of a submitted form is UTF-8 by default. In the video, all the characters that were part of the payload can be represented with 1 byte (8 bits). This is because they're all part of the __Basic Latin Characters__. See for yourself by looking at the Basic Latin Characters and finding all the ones from our POST request payload in the list:\n",
    "\n",
    "`firstname=Chris&language=English`\n",
    "\n",
    "Since each character in that payload will take up exactly one byte, counting the bytes is equivalent to counting the characters.\n",
    "\n",
    "What happens if you use a character outside of Basic Latin? For example, consider the scenario that your payload instead looks like this:\n",
    "\n",
    "`greeksigma=Σ`\n",
    "\n",
    "The Greek capital sigma cannot be represented with one byte (it actually takes two). What your browser will do upon submitting a form with a Σ is substitute a URL-encoded version, which in the case of the Greek capital sigma is `%CE%A3`. So, the HTTP POST payload becomes the following:\n",
    "\n",
    "`greeksigma=%CE%A3`\n",
    "\n",
    "Therefore, when the content-length header is calculated with this URL-encoded version, it has a value of 17, which is what will be included in the HTTP POST request."
   ]
  },
  {
   "cell_type": "markdown",
   "metadata": {},
   "source": [
    "```\n",
    "$ telnet httpbin.org 80\n",
    "Trying 50.19.219.240...\n",
    "Connected to httpbin.org.\n",
    "Escape character is '^]'.\n",
    "POST /post HTTP/1.1\n",
    "Host: httpbin.org\n",
    "Content-Length: 32\n",
    "\n",
    "firstname=Chris&lauguage=English\n",
    "```"
   ]
  },
  {
   "cell_type": "code",
   "execution_count": null,
   "metadata": {
    "collapsed": true
   },
   "outputs": [],
   "source": []
  }
 ],
 "metadata": {
  "kernelspec": {
   "display_name": "Python 3",
   "language": "python",
   "name": "python3"
  },
  "language_info": {
   "codemirror_mode": {
    "name": "ipython",
    "version": 3
   },
   "file_extension": ".py",
   "mimetype": "text/x-python",
   "name": "python",
   "nbconvert_exporter": "python",
   "pygments_lexer": "ipython3",
   "version": "3.6.1"
  }
 },
 "nbformat": 4,
 "nbformat_minor": 2
}
